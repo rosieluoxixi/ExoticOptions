{
 "cells": [
  {
   "cell_type": "code",
   "execution_count": 333,
   "id": "5e879153",
   "metadata": {},
   "outputs": [],
   "source": [
    "import numpy as np\n",
    "import pandas as pd\n",
    "from scipy.stats import norm\n",
    "import matplotlib.pyplot as plt\n",
    "%matplotlib inline\n",
    "from scipy import optimize"
   ]
  },
  {
   "cell_type": "code",
   "execution_count": 229,
   "id": "c6254a9a",
   "metadata": {},
   "outputs": [],
   "source": [
    "test_spec={\n",
    "    \"S0\": 100,\n",
    "    \"K\": 90,\n",
    "    \"r\": 0.05,\n",
    "    \"sigma\": 0.3,\n",
    "    \"T\": 0.5,\n",
    "    \"n\": 100,\n",
    "    \"CallPut\": 0\n",
    "}\n"
   ]
  },
  {
   "cell_type": "markdown",
   "id": "19d6685f",
   "metadata": {},
   "source": [
    "# BBS Pricing of American Option"
   ]
  },
  {
   "cell_type": "code",
   "execution_count": 307,
   "id": "c08306bc",
   "metadata": {},
   "outputs": [],
   "source": [
    "def bbsA(S0, K, r, sigma, T, n, CallPut):\n",
    "    '''\n",
    "    Benchmark model - Binomial Black Scholes method (BBS)\n",
    "    \n",
    "    Args:\n",
    "        S0 - initial stock price\n",
    "        K - strike price\n",
    "        r - risk-free rate\n",
    "        sigma - volatility\n",
    "        n - number of time steps\n",
    "        CallPut - indicator of call or put option, 1 for Call, 0 for Put\n",
    "    Returns the Americal option price estimated by the BBS method\n",
    "    '''\n",
    "    deltaT = T/n\n",
    "    u = np.exp(sigma*np.sqrt(deltaT))\n",
    "    d = 1/u\n",
    "    ratioUD = u/d\n",
    "    p = (np.exp(r*deltaT)-d)/(u-d)\n",
    "    q = 1 - p\n",
    "    df = np.exp(-r*deltaT)\n",
    "    lastLowest = S0 * d**n\n",
    "    underlying = lastLowest*(ratioUD*np.ones(n+1))**np.arange(n+1)\n",
    "    v = payoff(underlying, K, CallPut)\n",
    "    #use BS formula to replace the continuation value at the tn-1\n",
    "    for i in range(n,0,-1):\n",
    "        underlying = underlying[:i]/d\n",
    "        if i == n:\n",
    "            bsmprice = bsmCall(underlying, K, r, sigma, deltaT, CallPut)\n",
    "            v = np.maximum(bsmprice, payoff(underlying, K, CallPut))\n",
    "        else:\n",
    "            v = np.maximum(payoff(underlying, K, CallPut), (q*v[:i]+p*v[1:i+1])*df)\n",
    "    return v[0]"
   ]
  },
  {
   "cell_type": "code",
   "execution_count": 308,
   "id": "5297d435",
   "metadata": {},
   "outputs": [],
   "source": [
    "def bsmCall(S, K, r, sigma, T, CallPut):\n",
    "    F = S*np.exp(r*T)\n",
    "    df = np.exp(-r*T)\n",
    "    vol = sigma*np.sqrt(T)\n",
    "    d1 = np.log(F/K)/vol + 0.5*vol\n",
    "    d2 = d1 - vol\n",
    "    if CallPut:\n",
    "        value = S*norm.cdf(d1) - K*df*norm.cdf(d2)\n",
    "    else:\n",
    "        value = K*df*norm.cdf(-d2) - S*norm.cdf(-d1)\n",
    "    return value"
   ]
  },
  {
   "cell_type": "code",
   "execution_count": 309,
   "id": "dd693509",
   "metadata": {},
   "outputs": [],
   "source": [
    "def payoff(underlying, K, CallPut):\n",
    "    if CallPut:\n",
    "        value = np.maximum(underlying-K, 0)\n",
    "    else:\n",
    "        value = np.maximum(K-underlying, 0)\n",
    "    return value"
   ]
  },
  {
   "cell_type": "code",
   "execution_count": 310,
   "id": "77b73e11",
   "metadata": {},
   "outputs": [
    {
     "data": {
      "text/plain": [
       "3.3502574922757615"
      ]
     },
     "execution_count": 310,
     "metadata": {},
     "output_type": "execute_result"
    }
   ],
   "source": [
    "v = bbsA(S0=100, K=90, r=0.05, sigma=0.3, T=0.5, n=100, CallPut=0)\n",
    "v"
   ]
  },
  {
   "cell_type": "code",
   "execution_count": 311,
   "id": "4d4805f0",
   "metadata": {},
   "outputs": [
    {
     "data": {
      "text/plain": [
       "3.3502574922757615"
      ]
     },
     "execution_count": 311,
     "metadata": {},
     "output_type": "execute_result"
    }
   ],
   "source": [
    "v = bbsA(**test_spec)\n",
    "v"
   ]
  },
  {
   "cell_type": "code",
   "execution_count": 329,
   "id": "04d3fdc4",
   "metadata": {},
   "outputs": [],
   "source": [
    "optionval = []\n",
    "for n in range(4,101):\n",
    "    optionval.append(bbsA(S0=100, K=90, r=0.05, sigma=0.3, T=0.5, n=n, CallPut=0))"
   ]
  },
  {
   "cell_type": "code",
   "execution_count": 332,
   "id": "3694cb58",
   "metadata": {},
   "outputs": [
    {
     "data": {
      "text/plain": [
       "Text(0, 0.5, 'BBS Price')"
      ]
     },
     "execution_count": 332,
     "metadata": {},
     "output_type": "execute_result"
    },
    {
     "data": {
      "image/png": "[encoded data removed]",
      "text/plain": [
       "<Figure size 432x288 with 1 Axes>"
      ]
     },
     "metadata": {
      "needs_background": "light"
     },
     "output_type": "display_data"
    }
   ],
   "source": [
    "#BBS price is smoother than Binomial Tree price\n",
    "plt.plot(np.arange(4,101), optionval)\n",
    "plt.grid()\n",
    "plt.xlabel('n')\n",
    "plt.ylabel('BBS Price')"
   ]
  },
  {
   "cell_type": "markdown",
   "id": "983278a7",
   "metadata": {},
   "source": [
    "# BAW Pricing of American Option"
   ]
  },
  {
   "cell_type": "markdown",
   "id": "9de9bf72",
   "metadata": {},
   "source": [
    "BAW method is more accurate for short or long term option"
   ]
  },
  {
   "cell_type": "code",
   "execution_count": 632,
   "id": "c5280547",
   "metadata": {},
   "outputs": [],
   "source": [
    "def baw(S0, K, r, sigma, T, CallPut):\n",
    "    '''\n",
    "    Barone-Adesi and Whaley Approximation\n",
    "    Args:\n",
    "        S0 - initial stock price\n",
    "        K - strike price\n",
    "        r - risk-free rate\n",
    "        sigma - volatility\n",
    "        T - option maturity date\n",
    "        CallPut - indicator of call or put option, 1 for Call, 0 for Put\n",
    "    Returns the Americal option price estimated by the BAW method\n",
    "    '''\n",
    "    k = 2*r/sigma**2\n",
    "    h = 1 - np.exp(-r*T)\n",
    "    factor = np.sqrt((k-1)**2+4*k/h)\n",
    "    q1 = -0.5*((k-1) + factor)\n",
    "    q2 = 0.5*(-(k-1) + factor)\n",
    "    vol = sigma*np.sqrt(T)\n",
    "    epsilon = 10**(-16)\n",
    "    if CallPut:\n",
    "        S_opt = optimize.newton(boundaryS_Call, K)\n",
    "        eurValue = bsmCall(S_opt, K, r, sigma, T, CallPut)\n",
    "        F = S_opt*np.exp(r*T)\n",
    "        d1 = np.log(F/K)/vol + 0.5*vol\n",
    "        temp = K\n",
    "        while np.abs(S_opt - temp) > epsilon:\n",
    "            temp = S_opt\n",
    "            S_opt = optimize.newton(boundaryS_Put, temp)\n",
    "        if S0 >= S_opt:\n",
    "            value = S0-K\n",
    "        else:\n",
    "            value = bsmCall(S0, K, r, sigma, T, 1) + S_opt/q2*(1-nor.cdf(d1))*(S0/S_opt)**q2\n",
    "    else:\n",
    "        S_opt = optimize.newton(boundaryS_Put, K)\n",
    "        eurValue = bsmCall(S_opt, K, r, sigma, T, CallPut)\n",
    "        F = S_opt*np.exp(r*T)\n",
    "        d1 = np.log(F/K)/vol + 0.5*vol\n",
    "        temp = K\n",
    "        while np.abs(S_opt - temp) > epsilon:\n",
    "            temp = S_opt\n",
    "            S_opt = optimize.newton(boundaryS_Put, temp)\n",
    "            print(S_opt)\n",
    "        if S0 <= S_opt:\n",
    "            value = K-S0\n",
    "        else:\n",
    "            value = bsmCall(S0, K, r, sigma, T, 0) - S_opt/q1*(1-norm.cdf(-d1))*(S0/S_opt)**q1\n",
    "    return value"
   ]
  },
  {
   "cell_type": "code",
   "execution_count": 633,
   "id": "c465e5df",
   "metadata": {},
   "outputs": [],
   "source": [
    "def boundaryS_Call(S):\n",
    "    return (S-K-eurValue-S/q2(1-norm.cdf(d1)))"
   ]
  },
  {
   "cell_type": "code",
   "execution_count": 634,
   "id": "c40bbf99",
   "metadata": {},
   "outputs": [],
   "source": [
    "def boundaryS_Put(S):\n",
    "    return(K-S-eurValue+S/q1*(1-norm.cdf(-d1)))"
   ]
  },
  {
   "cell_type": "code",
   "execution_count": 652,
   "id": "1342e8e1",
   "metadata": {},
   "outputs": [
    {
     "name": "stdout",
     "output_type": "stream",
     "text": [
      "67.81521827949959\n"
     ]
    },
    {
     "data": {
      "text/plain": [
       "3.3605691824059676"
      ]
     },
     "execution_count": 652,
     "metadata": {},
     "output_type": "execute_result"
    }
   ],
   "source": [
    "baw(100, 90, 0.05, 0.3, 0.5, 0)"
   ]
  },
  {
   "cell_type": "markdown",
   "id": "d188a393",
   "metadata": {},
   "source": [
    "# Leaset Square Monte Carlo"
   ]
  },
  {
   "cell_type": "code",
   "execution_count": 736,
   "id": "15aabda9",
   "metadata": {},
   "outputs": [],
   "source": [
    "def LSMC_A(S0, K, T, N, r, sigma, CallPut, nSim):\n",
    "    '''\n",
    "    Least Square Monte Carlo method for American options\n",
    "    Args:\n",
    "        S0 - initial stock price\n",
    "        K - strike price\n",
    "        T - maturity date\n",
    "        N - number of time steps\n",
    "        r - risk-free rate\n",
    "        sigma - volatility\n",
    "        CallPut - indicator of call or put option, 1 for Call, 0 for Put\n",
    "        nSim - number of paths\n",
    "        \n",
    "    Returns the Americal option price estimated by the LSMC method\n",
    "    '''\n",
    "    dT = T/N\n",
    "    df = np.exp(-r*dT)\n",
    "    priceMatrix = MCprice_Matrix(S0, r, sigma, T, N, nSim, seed=123)\n",
    "    payoff = Cashflow_Matrix(priceMatrix, CallPut, K, N, nSim)\n",
    "    value = np.zeros_like(payoff)\n",
    "    value[-1] = payoff[-1]\n",
    "    for t in range(N-1, 0, -1):\n",
    "        y = value[t+1]*df\n",
    "        x = priceMatrix[t]\n",
    "        regression = np.polyfit(x,y,5)\n",
    "        conti_value = np.polyval(regression, x)\n",
    "        value[t] = np.where(payoff[t] > conti_value,\n",
    "                           payoff[t],\n",
    "                           value[t+1]*df)\n",
    "    result = np.mean(value[1]*df)\n",
    "    return result"
   ]
  },
  {
   "cell_type": "code",
   "execution_count": 737,
   "id": "0c8b6788",
   "metadata": {},
   "outputs": [],
   "source": [
    "def MCprice_Matrix(S0, r, sigma, T, N, nSim, seed=123):\n",
    "    \"\"\" Returns MC price matrix rows: time columns: price-path simulation \"\"\"\n",
    "    np.random.seed(seed)\n",
    "    priceMatrix = np.zeros((N+1, nSim))\n",
    "    priceMatrix[0] = S0\n",
    "    dT = T/N\n",
    "    for t in range(1, N+1):\n",
    "        z = np.random.standard_normal(nSim)\n",
    "        priceMatrix[t] = priceMatrix[t-1]*np.exp((r-0.5*sigma**2)*dT+sigma*np.sqrt(dT)*z)\n",
    "    return priceMatrix"
   ]
  },
  {
   "cell_type": "code",
   "execution_count": 738,
   "id": "4d2f1660",
   "metadata": {},
   "outputs": [],
   "source": [
    "def Cashflow_Matrix(priceMatrix, CallPut, K, N, nSim):\n",
    "    if CallPut:\n",
    "        payoff = np.maximum(priceMatrix - K, np.zeros((N+1, nSim)))\n",
    "    else:\n",
    "        payoff = np.maximum(K - priceMatrix, np.zeros((N+1, nSim)))\n",
    "    return payoff"
   ]
  },
  {
   "cell_type": "code",
   "execution_count": 739,
   "id": "1ae77e28",
   "metadata": {},
   "outputs": [
    {
     "data": {
      "text/plain": [
       "3.280654308433699"
      ]
     },
     "execution_count": 739,
     "metadata": {},
     "output_type": "execute_result"
    }
   ],
   "source": [
    "LSMC_A(S0=100, K=90, T=0.5, N=6, r=0.05, sigma=0.3, CallPut=0, nSim=100000)"
   ]
  },
  {
   "cell_type": "code",
   "execution_count": null,
   "id": "517716f2",
   "metadata": {},
   "outputs": [],
   "source": []
  }
 ],
 "metadata": {
  "kernelspec": {
   "display_name": "Python 3",
   "language": "python",
   "name": "python3"
  },
  "language_info": {
   "codemirror_mode": {
    "name": "ipython",
    "version": 3
   },
   "file_extension": ".py",
   "mimetype": "text/x-python",
   "name": "python",
   "nbconvert_exporter": "python",
   "pygments_lexer": "ipython3",
   "version": "3.8.8"
  }
 },
 "nbformat": 4,
 "nbformat_minor": 5
}
