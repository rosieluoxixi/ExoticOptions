{
 "cells": [
  {
   "cell_type": "code",
   "execution_count": 43,
   "id": "5e879153",
   "metadata": {},
   "outputs": [],
   "source": [
    "import numpy as np\n",
    "import pandas as pd\n",
    "from scipy.stats import norm"
   ]
  },
  {
   "cell_type": "code",
   "execution_count": 203,
   "id": "c6254a9a",
   "metadata": {},
   "outputs": [],
   "source": [
    "test_spec={\n",
    "    \"S0\": 100,\n",
    "    \"K\": 90,\n",
    "    \"r\": 0.03,\n",
    "    \"sigma\": 0.0,\n",
    "    \"T\": 1,\n",
    "    \"n\": 12,\n",
    "    \"CallPut\": 0\n",
    "}\n"
   ]
  },
  {
   "cell_type": "code",
   "execution_count": 195,
   "id": "c08306bc",
   "metadata": {},
   "outputs": [],
   "source": [
    "def bbsA(S0, K, r, sigma, T, n, CallPut):\n",
    "    '''\n",
    "    Benchmark model - Binomial Black Scholes method (BBS)\n",
    "    \n",
    "    Args:\n",
    "        S0 - initial stock price\n",
    "        K - strike price\n",
    "        r - risk-free rate\n",
    "        sigma - volatility\n",
    "        n - number of time steps\n",
    "        CallPut - indicator of call or put option, 1 for Call, 0 for Put\n",
    "    Returns the Americal option price estimated by the BBS method\n",
    "    '''\n",
    "    delta = T/n\n",
    "    u = np.exp(sigma*np.sqrt(delta))\n",
    "    d = 1/u\n",
    "    ratioUD = u/d\n",
    "    p = (np.exp(r*delta)-d)/(u-d)\n",
    "    q = 1 - p\n",
    "    df = np.exp(-r*delta)\n",
    "    v = np.zeros(n)\n",
    "    lastLowest = S0 * d**n\n",
    "    underlying = lastLowest*(ratio*np.ones(n+1))**np.arange(n+1)\n",
    "    #use BS formula to replace the continuation value\n",
    "    for i in range(n,0,-1):\n",
    "        underlying = underlying[:i]/d\n",
    "        if i == n:\n",
    "            bsmprice = bsmCall(underlying, K, r, sigma, delta, CallPut)\n",
    "            v = np.maximum(bsmprice, payoff(underlying, K, CallPut))\n",
    "        else:\n",
    "            v = np.maximum(payoff(underlying, K, CallPut), (q*v[:i]+p*v[1:i+1])*df)\n",
    "    return v[0]"
   ]
  },
  {
   "cell_type": "code",
   "execution_count": 196,
   "id": "5297d435",
   "metadata": {},
   "outputs": [],
   "source": [
    "def bsmCall(S, K, r, sigma, T, CallPut):\n",
    "    F = S*np.exp(r*T)\n",
    "    df = np.exp(-r*T)\n",
    "    vol = sigma*np.sqrt(T)\n",
    "    d1 = np.log(F/K)/vol + 0.5*vol\n",
    "    d2 = d1 - vol\n",
    "    if CallPut:\n",
    "        value = S*norm.cdf(d1) - K*df*norm.cdf(d2)\n",
    "    else:\n",
    "        value = K*df*norm.cdf(-d1) - S*norm.cdf(-d2)\n",
    "    return value"
   ]
  },
  {
   "cell_type": "code",
   "execution_count": 197,
   "id": "dd693509",
   "metadata": {},
   "outputs": [],
   "source": [
    "def payoff(underlying, K, CallPut):\n",
    "    if CallPut:\n",
    "        value = np.maximum(underlying-K, 0)\n",
    "    else:\n",
    "        value = np.maximum(K-underlying, 0)\n",
    "    return value"
   ]
  },
  {
   "cell_type": "code",
   "execution_count": 198,
   "id": "77b73e11",
   "metadata": {},
   "outputs": [],
   "source": [
    "v = bbsA(S0=100, K=90, r=0.03, sigma=0.1, T=1, n=12, CallPut=0)"
   ]
  },
  {
   "cell_type": "code",
   "execution_count": 204,
   "id": "4d4805f0",
   "metadata": {},
   "outputs": [
    {
     "ename": "TypeError",
     "evalue": "bbsA() missing 6 required positional arguments: 'K', 'r', 'sigma', 'T', 'n', and 'CallPut'",
     "output_type": "error",
     "traceback": [
      "\u001b[1;31m---------------------------------------------------------------------------\u001b[0m",
      "\u001b[1;31mTypeError\u001b[0m                                 Traceback (most recent call last)",
      "\u001b[1;32m<ipython-input-204-a9886c9de28d>\u001b[0m in \u001b[0;36m<module>\u001b[1;34m\u001b[0m\n\u001b[1;32m----> 1\u001b[1;33m \u001b[0mv\u001b[0m \u001b[1;33m=\u001b[0m \u001b[0mbbsA\u001b[0m\u001b[1;33m(\u001b[0m\u001b[0mtest_spec\u001b[0m\u001b[1;33m)\u001b[0m\u001b[1;33m\u001b[0m\u001b[1;33m\u001b[0m\u001b[0m\n\u001b[0m",
      "\u001b[1;31mTypeError\u001b[0m: bbsA() missing 6 required positional arguments: 'K', 'r', 'sigma', 'T', 'n', and 'CallPut'"
     ]
    }
   ],
   "source": [
    "v = bbsA(test_spec)"
   ]
  },
  {
   "cell_type": "code",
   "execution_count": null,
   "id": "4dfdca0c",
   "metadata": {},
   "outputs": [],
   "source": []
  }
 ],
 "metadata": {
  "kernelspec": {
   "display_name": "Python 3",
   "language": "python",
   "name": "python3"
  },
  "language_info": {
   "codemirror_mode": {
    "name": "ipython",
    "version": 3
   },
   "file_extension": ".py",
   "mimetype": "text/x-python",
   "name": "python",
   "nbconvert_exporter": "python",
   "pygments_lexer": "ipython3",
   "version": "3.8.8"
  }
 },
 "nbformat": 4,
 "nbformat_minor": 5
}
