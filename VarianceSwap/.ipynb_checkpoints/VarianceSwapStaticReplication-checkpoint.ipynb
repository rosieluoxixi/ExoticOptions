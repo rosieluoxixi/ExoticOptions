{
 "cells": [
  {
   "cell_type": "markdown",
   "id": "a16b12e8",
   "metadata": {},
   "source": [
    "# Variance Swap \n",
    "A variance swap pays to its buyer the difference between realized variance and a pre-agreed variance strike.\n",
    "\n",
    "For a variance notional N, the payoff for a variance swap is:\n",
    "    N*(σ_R^2-σ_K^2 ),\n",
    "Where σ_R^2 is the realized variance of reference asset and σ_K is the volatility strike.\n",
    "\n",
    "Using risk-neutral pricing, the price of a variance swap is:\n",
    "    V= e^(-rt_p ) N*(E(σ_R^2 )-σ_K^2 )\n",
    "    \n",
    "Assume the underlying price follows the below SDE in risk-neutral measure:\n",
    "    dS(t)/S(t) =δdt+ σ(t,ω)dW(t)\n",
    "\tAssume δ is constant\n",
    "\tδ=0 for futures market, δ=rd-rf for foreign interest rate\n",
    "\tThe instantaneous volatility σ is stochastic\n",
    "    \n",
    "U=E[1/T ∫(σ(t,ω)^2 dt]\n",
    "=2/T E[-ln⁡(S(T)/F)]\n",
    "Where F=S_0*e^δT is the forward price.\n"
   ]
  },
  {
   "cell_type": "code",
   "execution_count": 32,
   "id": "8bde9307",
   "metadata": {},
   "outputs": [],
   "source": [
    "import numpy as np\n",
    "import yfinance as yf\n",
    "from datetime import datetime\n",
    "import pandas as pd"
   ]
  },
  {
   "cell_type": "code",
   "execution_count": 70,
   "id": "4e5f7aff",
   "metadata": {},
   "outputs": [],
   "source": [
    "def VarSwap(S0, sigmaK, T, Tp, C, P, r, N):\n",
    "    F = S0 * np.exp(r*T)\n",
    "    for strike in C['strike']:\n",
    "        if strike > F:\n",
    "            weight = 1/strike**2\n",
    "            callsum = weight\n",
    "    U = 2/T * sum(np.where(C['strike']>F, C['lastPrice']*weight, P['lastPrice']*weight))\n",
    "    V = np.exp(-r*Tp)*N*(U-sigmaK**2)\n",
    "    return V"
   ]
  },
  {
   "cell_type": "code",
   "execution_count": 75,
   "id": "113b6e33",
   "metadata": {},
   "outputs": [],
   "source": [
    "spx = yf.Ticker('^SPX')\n",
    "opt = spx.option_chain(date='2022-12-16')\n",
    "calls = opt.calls\n",
    "calls = calls[['strike', 'lastPrice']]\n",
    "puts = opt.puts\n",
    "puts = puts[['strike', 'lastPrice']]\n",
    "S0 = 4620.64\n",
    "T = 1\n",
    "Tp = T + 2/365\n",
    "r = 0.05\n",
    "undiscounted = calls['lastPrice'] * np.exp(r*T)\n",
    "callPrice = pd.concat([calls['strike'], undiscounted], axis = 1)\n",
    "undiscounted = puts['lastPrice'] * np.exp(r*T)\n",
    "putPrice = pd.concat([puts['strike'], undiscounted], axis = 1)\n",
    "N = 10**6\n",
    "#K = callPrice['strike']\n",
    "sigmaK = 0.3\n",
    "C = callPrice\n",
    "P = putPrice\n",
    "#callPrice.isin(K)"
   ]
  },
  {
   "cell_type": "code",
   "execution_count": 78,
   "id": "2373de21",
   "metadata": {},
   "outputs": [],
   "source": [
    "F = S0 * np.exp(r*T)\n",
    "weight = 1/K**2\n",
    "test = C.loc[C['strike'] > F, ['lastPrice']]"
   ]
  },
  {
   "cell_type": "code",
   "execution_count": null,
   "id": "46d283fc",
   "metadata": {},
   "outputs": [],
   "source": []
  }
 ],
 "metadata": {
  "kernelspec": {
   "display_name": "Python 3",
   "language": "python",
   "name": "python3"
  },
  "language_info": {
   "codemirror_mode": {
    "name": "ipython",
    "version": 3
   },
   "file_extension": ".py",
   "mimetype": "text/x-python",
   "name": "python",
   "nbconvert_exporter": "python",
   "pygments_lexer": "ipython3",
   "version": "3.8.8"
  }
 },
 "nbformat": 4,
 "nbformat_minor": 5
}
