{
 "cells": [
  {
   "cell_type": "markdown",
   "id": "a16b12e8",
   "metadata": {},
   "source": [
    "# Variance Swap \n",
    "A variance swap pays to its buyer the difference between realized variance and a pre-agreed variance strike.\n",
    "\n",
    "For a variance notional N, the payoff for a variance swap is:\n",
    "    N*(σ_R^2-σ_K^2 ),\n",
    "Where σ_R^2 is the realized variance of reference asset and σ_K is the volatility strike.\n",
    "\n",
    "Using risk-neutral pricing, the price of a variance swap is:\n",
    "    V= e^(-rt_p ) N*(E(σ_R^2 )-σ_K^2 )\n",
    "    \n",
    "Assume the underlying price follows the below SDE in risk-neutral measure:\n",
    "    dS(t)/S(t) =δdt+ σ(t,ω)dW(t)\n",
    "\tAssume δ is constant\n",
    "\tδ=0 for futures market, δ=rd-rf for foreign interest rate\n",
    "\tThe instantaneous volatility σ is stochastic\n",
    "    \n",
    "U=E[1/T ∫(σ(t,ω)^2 dt]\n",
    "=2/T E[-ln⁡(S(T)/F)]\n",
    "Where F=S_0*e^δT is the forward price.\n"
   ]
  },
  {
   "cell_type": "code",
   "execution_count": 2,
   "id": "8bde9307",
   "metadata": {},
   "outputs": [],
   "source": [
    "import numpy as np\n",
    "import yfinance as yf\n",
    "from datetime import datetime\n",
    "import pandas as pd"
   ]
  },
  {
   "cell_type": "code",
   "execution_count": 13,
   "id": "4e5f7aff",
   "metadata": {},
   "outputs": [],
   "source": [
    "def VarSwap(S0, sigmaK, T, Tp, C, P, r, N):\n",
    "    F = S0 * np.exp(r*T)\n",
    "    C = C.loc[C['strike'] > F]\n",
    "    P = P.loc[P['strike'] <= F]\n",
    "    P['weight'], C['weight'] = 1/P['strike']**2, 1/C['strike']**2\n",
    "    U = 2/T * (np.dot(C['weight'], C['lastPrice'])+np.dot(P['weight'], P['lastPrice']))\n",
    "    V = np.exp(-r*Tp)*N*(U-sigmaK**2)\n",
    "    return V"
   ]
  },
  {
   "cell_type": "code",
   "execution_count": 18,
   "id": "113b6e33",
   "metadata": {},
   "outputs": [],
   "source": [
    "spx = yf.Ticker('^SPX')\n",
    "opt = spx.option_chain(date='2022-12-16')\n",
    "calls = opt.calls\n",
    "calls = calls[['strike', 'lastPrice']]\n",
    "puts = opt.puts\n",
    "puts = puts[['strike', 'lastPrice']]\n",
    "S0 = 4620.64\n",
    "T = 1\n",
    "Tp = T + 2/365\n",
    "r = 0.05\n",
    "undiscounted = calls['lastPrice'] * np.exp(r*T)\n",
    "callPrice = pd.concat([calls['strike'], undiscounted], axis = 1)\n",
    "undiscounted = puts['lastPrice'] * np.exp(r*T)\n",
    "putPrice = pd.concat([puts['strike'], undiscounted], axis = 1)\n",
    "N = 100\n",
    "#K = callPrice['strike']\n",
    "sigmaK = 0.3\n",
    "#callPrice.isin(K)\n",
    "F = S0 * np.exp(r*T)"
   ]
  },
  {
   "cell_type": "code",
   "execution_count": 19,
   "id": "46d283fc",
   "metadata": {},
   "outputs": [
    {
     "name": "stderr",
     "output_type": "stream",
     "text": [
      "<ipython-input-13-51e64c53cd98>:5: SettingWithCopyWarning: \n",
      "A value is trying to be set on a copy of a slice from a DataFrame.\n",
      "Try using .loc[row_indexer,col_indexer] = value instead\n",
      "\n",
      "See the caveats in the documentation: https://pandas.pydata.org/pandas-docs/stable/user_guide/indexing.html#returning-a-view-versus-a-copy\n",
      "  P['weight'], C['weight'] = 1/P['strike']**2, 1/C['strike']**2\n"
     ]
    },
    {
     "data": {
      "text/plain": [
       "-8.25022922781099"
      ]
     },
     "execution_count": 19,
     "metadata": {},
     "output_type": "execute_result"
    }
   ],
   "source": [
    "VarSwap(S0, sigmaK, T, Tp, callPrice, putPrice, r, N)"
   ]
  },
  {
   "cell_type": "code",
   "execution_count": null,
   "id": "6a27c7fc",
   "metadata": {},
   "outputs": [],
   "source": []
  }
 ],
 "metadata": {
  "kernelspec": {
   "display_name": "Python 3",
   "language": "python",
   "name": "python3"
  },
  "language_info": {
   "codemirror_mode": {
    "name": "ipython",
    "version": 3
   },
   "file_extension": ".py",
   "mimetype": "text/x-python",
   "name": "python",
   "nbconvert_exporter": "python",
   "pygments_lexer": "ipython3",
   "version": "3.8.8"
  }
 },
 "nbformat": 4,
 "nbformat_minor": 5
}
