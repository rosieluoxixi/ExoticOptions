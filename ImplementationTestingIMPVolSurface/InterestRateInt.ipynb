{
 "cells": [
  {
   "cell_type": "code",
   "execution_count": 27,
   "id": "93c1836d",
   "metadata": {},
   "outputs": [],
   "source": [
    "import pandas as pd\n",
    "import numpy as np\n",
    "import bisect"
   ]
  },
  {
   "cell_type": "code",
   "execution_count": 28,
   "id": "2ebd4e56",
   "metadata": {},
   "outputs": [],
   "source": [
    "def makeDepoCurve (ts , dfs):\n",
    "    '''\n",
    "    Inputs :\n",
    "    ts: array of size N containing times to settlement in years\n",
    "    dfs: array of size N discount factors\n",
    "    Output :\n",
    "    curve : a struct containing data needed by getRateIntegral\n",
    "    \n",
    "    '''\n",
    "    dfs = -np.log(dfs)\n",
    "    r = dfs/(ts/365)\n",
    "    r = list(r)\n",
    "    ts = list(ts)\n",
    "    curve = {'ts':ts, 'r':r}\n",
    "    return curve"
   ]
  },
  {
   "cell_type": "code",
   "execution_count": 29,
   "id": "b0e83dba",
   "metadata": {},
   "outputs": [],
   "source": [
    "%run getMarket.ipynb"
   ]
  },
  {
   "cell_type": "code",
   "execution_count": 33,
   "id": "a8e46ca2",
   "metadata": {},
   "outputs": [],
   "source": [
    "def getRateIntegral(curve, t):\n",
    "    ts, r = curve['ts'], curve['r']\n",
    "    if t < ts[-1]:\n",
    "        left_index = bisect.bisect_left(ts, t)\n",
    "        right_index = left_index - 1\n",
    "        left_t = ts[left_index]; right_t = ts[right_index]\n",
    "        rate = r[right_index] + (t-right_t)/(left_t-right_t)*(r[left_index]-r[right_index])\n",
    "    else:\n",
    "        rate = r[-1]\n",
    "    return integ"
   ]
  },
  {
   "cell_type": "code",
   "execution_count": 34,
   "id": "daa47abb",
   "metadata": {},
   "outputs": [],
   "source": [
    "ts = days\n",
    "domCurve = makeDepoCurve(ts, domdf)\n",
    "forCurve = makeDepoCurve(ts, fordf)"
   ]
  },
  {
   "cell_type": "code",
   "execution_count": 35,
   "id": "9119efbc",
   "metadata": {},
   "outputs": [
    {
     "data": {
      "text/plain": [
       "[0.012687372437102237]"
      ]
     },
     "execution_count": 35,
     "metadata": {},
     "output_type": "execute_result"
    }
   ],
   "source": [
    "integ = getRateIntegral(domCurve, 200)\n",
    "integ"
   ]
  },
  {
   "cell_type": "code",
   "execution_count": null,
   "id": "240caf07",
   "metadata": {},
   "outputs": [],
   "source": []
  },
  {
   "cell_type": "code",
   "execution_count": null,
   "id": "3a5cc671",
   "metadata": {},
   "outputs": [],
   "source": []
  }
 ],
 "metadata": {
  "kernelspec": {
   "display_name": "Python 3",
   "language": "python",
   "name": "python3"
  },
  "language_info": {
   "codemirror_mode": {
    "name": "ipython",
    "version": 3
   },
   "file_extension": ".py",
   "mimetype": "text/x-python",
   "name": "python",
   "nbconvert_exporter": "python",
   "pygments_lexer": "ipython3",
   "version": "3.8.8"
  }
 },
 "nbformat": 4,
 "nbformat_minor": 5
}
