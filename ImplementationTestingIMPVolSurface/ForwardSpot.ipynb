{
 "cells": [
  {
   "cell_type": "code",
   "execution_count": 1,
   "id": "c5a25ab0",
   "metadata": {},
   "outputs": [],
   "source": [
    "import pandas as pd\n",
    "import numpy as np"
   ]
  },
  {
   "cell_type": "code",
   "execution_count": 2,
   "id": "87ed7540",
   "metadata": {},
   "outputs": [],
   "source": [
    "def makeFwdCurve(domCurve, forCurve, spot, tau):\n",
    "    '''\n",
    "    Inputs :\n",
    "    domCurve : domestic IR curve data\n",
    "    forCurve : domestic IR curve data\n",
    "    spot : spot exchange rate\n",
    "    tau: lag between spot and settlement\n",
    "    Output :\n",
    "    curve : a struct containing data needed by getFwdSpot\n",
    "    '''\n",
    "    fwdCurve = {}\n",
    "    dom_r, for_r = domCurve['r'], forCurve['r']\n",
    "    fwd_r = [x1 - x2 for x1, x2 in zip(dom_r, for_r)]\n",
    "    fwdCurve['ts'] = domCurve['ts']\n",
    "    fwdCurve['r'] = fwd_r\n",
    "    fwdData = {'fwdCurve': fwdCurve, 'spot': spot, 'tau': tau}\n",
    "    return fwdData"
   ]
  },
  {
   "cell_type": "code",
   "execution_count": 3,
   "id": "ddbd2f33",
   "metadata": {},
   "outputs": [],
   "source": [
    "%run interestRateInt.ipynb"
   ]
  },
  {
   "cell_type": "code",
   "execution_count": 4,
   "id": "190d1065",
   "metadata": {},
   "outputs": [],
   "source": [
    "spot = 1.5123\n",
    "curve = makeFwdCurve(domCurve, forCurve, spot, 2)\n",
    "fwdCurve = curve['fwdCurve']\n",
    "integ = getRateIntegral(fwdCurve, 200)"
   ]
  },
  {
   "cell_type": "code",
   "execution_count": 5,
   "id": "366d9cee",
   "metadata": {},
   "outputs": [],
   "source": [
    "def getFwdSpot(curve, T):\n",
    "    fwdCurve = curve['fwdCurve']\n",
    "    tau = curve['tau']\n",
    "    spot = curve['spot']\n",
    "    Tp = np.array(T)+tau\n",
    "    integ = getRateIntegral(fwdCurve, Tp)\n",
    "    fwdSpot = spot*np.exp(integ)\n",
    "    return fwdSpot"
   ]
  },
  {
   "cell_type": "code",
   "execution_count": 6,
   "id": "6a63d6b8",
   "metadata": {},
   "outputs": [
    {
     "data": {
      "text/plain": [
       "1.4943488686817252"
      ]
     },
     "execution_count": 6,
     "metadata": {},
     "output_type": "execute_result"
    }
   ],
   "source": [
    "fwd = getFwdSpot(curve, 200)\n",
    "fwd"
   ]
  },
  {
   "cell_type": "code",
   "execution_count": null,
   "id": "290c7261",
   "metadata": {},
   "outputs": [],
   "source": []
  },
  {
   "cell_type": "code",
   "execution_count": null,
   "id": "d8e46656",
   "metadata": {},
   "outputs": [],
   "source": []
  }
 ],
 "metadata": {
  "kernelspec": {
   "display_name": "Python 3",
   "language": "python",
   "name": "python3"
  },
  "language_info": {
   "codemirror_mode": {
    "name": "ipython",
    "version": 3
   },
   "file_extension": ".py",
   "mimetype": "text/x-python",
   "name": "python",
   "nbconvert_exporter": "python",
   "pygments_lexer": "ipython3",
   "version": "3.8.8"
  }
 },
 "nbformat": 4,
 "nbformat_minor": 5
}
