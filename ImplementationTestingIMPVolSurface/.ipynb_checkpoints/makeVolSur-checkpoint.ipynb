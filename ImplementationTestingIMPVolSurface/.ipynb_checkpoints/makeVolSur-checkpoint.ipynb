{
 "cells": [
  {
   "cell_type": "code",
   "execution_count": 47,
   "id": "9f4e73b6",
   "metadata": {},
   "outputs": [],
   "source": [
    "import pandas as pd\n",
    "import numpy as np"
   ]
  },
  {
   "cell_type": "code",
   "execution_count": 140,
   "id": "2c40b8de",
   "metadata": {},
   "outputs": [],
   "source": [
    "def makeVolSurface ( fwdCurve , Ts , cps , deltas , vols ):\n",
    "    '''\n",
    "    Inputs :\n",
    "    fwdCurve : forward curve data\n",
    "    Ts: vector of expiry times\n",
    "    cps: vetor of 1 for call , -1 for put\n",
    "    deltas : vector of delta in absolute value (e.g. 0.25)\n",
    "    vols : matrix of volatilities\n",
    "    Output :\n",
    "    surface : a struct containing data needed in getVol\n",
    "    '''\n",
    "    volSurface = {}\n",
    "    for i in range(len(Ts)):\n",
    "        volSurface[Ts[i]] = makeSmile ( fwdCurve , Ts[i], cps , deltas , vols.loc[i] )\n",
    "    #check arbitrage\n",
    "    for i in range(len(Ts)-1):\n",
    "        T = Ts[i]\n",
    "        fwd = getFwdSpot(fwdCurve, T)\n",
    "        K = getStrikefromDelta(fwd, T, cps, vols.loc[i], deltas)\n",
    "        for j in range(i+1, len(Ts)):\n",
    "            T1 = T\n",
    "            T2 = Ts[j]\n",
    "            c = nonArb(K, fwdCurve, T1, T2, volSurface)\n",
    "            assert (c<0).any(), \"option price increases along moneyness line\"\n",
    "    return volSurface"
   ]
  },
  {
   "cell_type": "code",
   "execution_count": 141,
   "id": "a098682e",
   "metadata": {},
   "outputs": [
    {
     "data": {
      "image/png": "[encoded data removed]",
      "text/plain": [
       "<Figure size 468x288 with 1 Axes>"
      ]
     },
     "metadata": {
      "needs_background": "light"
     },
     "output_type": "display_data"
    }
   ],
   "source": [
    "%run getMarket.ipynb\n",
    "%run ForwardSpot.ipynb\n",
    "%run InterpolationStrike.ipynb"
   ]
  },
  {
   "cell_type": "code",
   "execution_count": 142,
   "id": "ee034f6e",
   "metadata": {},
   "outputs": [
    {
     "data": {
      "text/plain": [
       "array([  7,  14,  21,  28,  59,  89, 181, 365, 546, 730])"
      ]
     },
     "execution_count": 142,
     "metadata": {},
     "output_type": "execute_result"
    }
   ],
   "source": [
    "fwdCurve = curve\n",
    "Ts = curve['fwdCurve']['ts']\n",
    "Ts = np.array(Ts)\n",
    "vols = data[['10dput', '25dput', '50dcall', '25dcall', '10dcall']] / 100\n",
    "Ts"
   ]
  },
  {
   "cell_type": "code",
   "execution_count": 143,
   "id": "1f2f08d9",
   "metadata": {},
   "outputs": [
    {
     "data": {
      "text/plain": [
       "{7: {'cs': <scipy.interpolate._cubic.CubicSpline at 0x1de1e3d8bd0>,\n",
       "  'KL': 1.4152271704319759,\n",
       "  'KR': 1.5839528580516364,\n",
       "  'bR': 29.068255068161097,\n",
       "  'bL': 34.24385905018886,\n",
       "  'aR': 0.019059347749133284,\n",
       "  'aL': 0.008503557129620835,\n",
       "  'K1': 1.4409653206132325,\n",
       "  'KN': 1.553632029197175},\n",
       " 14: {'cs': <scipy.interpolate._cubic.CubicSpline at 0x1de1e254b30>,\n",
       "  'KL': 1.3813620982447323,\n",
       "  'KR': 1.6264034835507453,\n",
       "  'bR': 19.59261265956186,\n",
       "  'bL': 24.124598941674954,\n",
       "  'aR': 0.01958240678576692,\n",
       "  'aL': 0.00852168913341144,\n",
       "  'K1': 1.4178963257836192,\n",
       "  'KN': 1.5814184883214641},\n",
       " 21: {'cs': <scipy.interpolate._cubic.CubicSpline at 0x1de1e3d89f0>,\n",
       "  'KL': 1.3543304535352343,\n",
       "  'KR': 1.662352382742061,\n",
       "  'bR': 15.3191957443748,\n",
       "  'bL': 19.551947496189303,\n",
       "  'aR': 0.020182406552353746,\n",
       "  'aL': 0.008883464857840464,\n",
       "  'K1': 1.399409010911236,\n",
       "  'KN': 1.6048184493863766},\n",
       " 28: {'cs': <scipy.interpolate._cubic.CubicSpline at 0x1de1e3d8ae0>,\n",
       "  'KL': 1.330667763533725,\n",
       "  'KR': 1.695497035610147,\n",
       "  'bR': 12.735223577759923,\n",
       "  'bL': 16.79356920707048,\n",
       "  'aR': 0.020682502373053996,\n",
       "  'aL': 0.008908594421502465,\n",
       "  'K1': 1.3831505666919997,\n",
       "  'KN': 1.6262894883976486},\n",
       " 59: {'cs': <scipy.interpolate._cubic.CubicSpline at 0x1de1e7ce5e0>,\n",
       "  'KL': 1.25481948499446,\n",
       "  'KR': 1.8135314903407216,\n",
       "  'bR': 7.900874305314806,\n",
       "  'bL': 11.62224595481787,\n",
       "  'aR': 0.021871906688187715,\n",
       "  'aL': 0.00926196088381267,\n",
       "  'K1': 1.330654533611219,\n",
       "  'KN': 1.7019775593502418},\n",
       " 89: {'cs': <scipy.interpolate._cubic.CubicSpline at 0x1de1e3f09a0>,\n",
       "  'KL': 1.1908504576521883,\n",
       "  'KR': 1.9297935896810599,\n",
       "  'bR': 5.709087825787036,\n",
       "  'bL': 9.273225166726546,\n",
       "  'aR': 0.02359662416655468,\n",
       "  'aL': 0.009970564710326956,\n",
       "  'K1': 1.2858954469814692,\n",
       "  'KN': 1.7754127824637458},\n",
       " 181: {'cs': <scipy.interpolate._cubic.CubicSpline at 0x1de1e3c0a40>,\n",
       "  'KL': 1.0726987610978935,\n",
       "  'KR': 2.1991098684801127,\n",
       "  'bR': 3.4237346155919015,\n",
       "  'bL': 6.819767345231732,\n",
       "  'aR': 0.024970044078152554,\n",
       "  'aL': 0.010197152453780558,\n",
       "  'K1': 1.2019368336599707,\n",
       "  'KN': 1.9416794055564641},\n",
       " 365: {'cs': <scipy.interpolate._cubic.CubicSpline at 0x1de1e3dd1d0>,\n",
       "  'KL': 0.9272871659839397,\n",
       "  'KR': 2.6814055452678396,\n",
       "  'bR': 1.9438298797429707,\n",
       "  'bL': 5.2182514805502,\n",
       "  'aR': 0.026398825988136983,\n",
       "  'aL': 0.01027796698220493,\n",
       "  'K1': 1.0961892570971516,\n",
       "  'KN': 2.227984391387807},\n",
       " 546: {'cs': <scipy.interpolate._cubic.CubicSpline at 0x1de1e3d80e0>,\n",
       "  'KL': 0.8099938517825571,\n",
       "  'KR': 3.286984945536561,\n",
       "  'bR': 1.2305671213477078,\n",
       "  'bL': 4.432379679067888,\n",
       "  'aR': 0.02864101769306136,\n",
       "  'aL': 0.010683599688817784,\n",
       "  'K1': 1.0088426984149585,\n",
       "  'KN': 2.5707512905578147},\n",
       " 730: {'cs': <scipy.interpolate._cubic.CubicSpline at 0x1de1e3dd5e0>,\n",
       "  'KL': 0.7137559617827068,\n",
       "  'KR': 4.057923881935526,\n",
       "  'bR': 0.8223914847732554,\n",
       "  'bL': 3.968596425134389,\n",
       "  'aR': 0.03061257095033488,\n",
       "  'aL': 0.011008822376958854,\n",
       "  'K1': 0.9358429397977861,\n",
       "  'KN': 2.98620365703248}}"
      ]
     },
     "execution_count": 143,
     "metadata": {},
     "output_type": "execute_result"
    }
   ],
   "source": [
    "makeVolSurface ( fwdCurve , Ts , cps , deltas , vols )"
   ]
  },
  {
   "cell_type": "code",
   "execution_count": 144,
   "id": "0603463a",
   "metadata": {},
   "outputs": [],
   "source": [
    "def nonArb(K, fwdCurve, T1, T2, volSurface):\n",
    "    f1 = getFwdSpot(fwdCurve, T1)\n",
    "    f2 = getFwdSpot(fwdCurve, T2)\n",
    "    K2 = K*f2/f1\n",
    "    iv1 = getSmileVol(volSurface[T1], K)\n",
    "    iv2 = getSmileVol(volSurface[T2], K2)\n",
    "    c1 = getBlackCall( f1, T1, K, iv1)\n",
    "    c2 = getBlackCall( f2, T2, K2, iv2)\n",
    "    return (c1-c2)"
   ]
  },
  {
   "cell_type": "code",
   "execution_count": null,
   "id": "4d1a77a1",
   "metadata": {},
   "outputs": [],
   "source": []
  }
 ],
 "metadata": {
  "kernelspec": {
   "display_name": "Python 3",
   "language": "python",
   "name": "python3"
  },
  "language_info": {
   "codemirror_mode": {
    "name": "ipython",
    "version": 3
   },
   "file_extension": ".py",
   "mimetype": "text/x-python",
   "name": "python",
   "nbconvert_exporter": "python",
   "pygments_lexer": "ipython3",
   "version": "3.8.8"
  }
 },
 "nbformat": 4,
 "nbformat_minor": 5
}
