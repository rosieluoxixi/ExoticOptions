{
 "cells": [
  {
   "cell_type": "code",
   "execution_count": 2,
   "id": "6104d28a",
   "metadata": {},
   "outputs": [],
   "source": [
    "import pandas as pd\n",
    "import numpy as np\n",
    "from scipy.stats import norm"
   ]
  },
  {
   "cell_type": "code",
   "execution_count": 3,
   "id": "de6f4b93",
   "metadata": {},
   "outputs": [],
   "source": [
    "def getBlackCall(f, T, Ks, Vs):\n",
    "    ''' \n",
    "    Inputs :\n",
    "    f: forward spot for time T, i.e. E[S(T)]\n",
    "    T: time to expiry of the option\n",
    "    Ks: vector of strikes\n",
    "    Vs: vector of implied Black volatilities\n",
    "    Output :\n",
    "    u: vector of call options undiscounted prices\n",
    "    \n",
    "    '''\n",
    "    vol = Vs*np.sqrt(T/365)\n",
    "    d1 = np.log(f/Ks)/vol + 0.5*vol\n",
    "    d2 = d1 - vol\n",
    "    u = f*norm.cdf(d1) - Ks*norm.cdf(d2)\n",
    "    return u"
   ]
  },
  {
   "cell_type": "code",
   "execution_count": null,
   "id": "f8a0e9ef",
   "metadata": {},
   "outputs": [],
   "source": []
  }
 ],
 "metadata": {
  "kernelspec": {
   "display_name": "Python 3",
   "language": "python",
   "name": "python3"
  },
  "language_info": {
   "codemirror_mode": {
    "name": "ipython",
    "version": 3
   },
   "file_extension": ".py",
   "mimetype": "text/x-python",
   "name": "python",
   "nbconvert_exporter": "python",
   "pygments_lexer": "ipython3",
   "version": "3.8.8"
  }
 },
 "nbformat": 4,
 "nbformat_minor": 5
}
