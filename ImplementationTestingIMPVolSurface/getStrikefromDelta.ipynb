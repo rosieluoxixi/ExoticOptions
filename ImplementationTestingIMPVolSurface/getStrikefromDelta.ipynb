{
 "cells": [
  {
   "cell_type": "code",
   "execution_count": 1,
   "id": "11088199",
   "metadata": {},
   "outputs": [],
   "source": [
    "import pandas as pd\n",
    "import numpy as np\n",
    "from scipy import optimize\n",
    "from scipy.stats import norm"
   ]
  },
  {
   "cell_type": "code",
   "execution_count": 2,
   "id": "3d308525",
   "metadata": {},
   "outputs": [],
   "source": [
    "def getStrikefromDelta(fwd, T, cp, sigma, delta):\n",
    "    '''\n",
    "    Inputs :\n",
    "    fwd: forward spot for time T, i.e. E[S(T)]\n",
    "    T: time to expiry of the option\n",
    "    cp: 1 for call , -1 for put\n",
    "    sigma : implied Black volatility of the option\n",
    "    delta : delta in absolute value (e.g. 0.25)\n",
    "    Output :\n",
    "    K: strike of the option\n",
    "    \n",
    "    '''\n",
    "    vol = sigma*np.sqrt(T/365)\n",
    "    K = np.zeros(len(cp))\n",
    "    for i in range(len(cp)):\n",
    "        if cp[i]==1:\n",
    "            func = lambda K: norm.cdf(np.log(fwd/K)/vol[i]+0.5*vol[i])-delta[i]\n",
    "            f_prime = lambda K: norm.pdf(np.log(fwd/K)/vol[i] + 0.5*vol[i])/(-K*vol[i])\n",
    "        else:\n",
    "            func = lambda K: norm.cdf(-np.log(fwd/K)/vol[i]-0.5*vol[i])-delta[i]\n",
    "            f_prime = lambda K: norm.pdf(-np.log(fwd/K)/vol[i] - 0.5*vol[i])/(K*vol[i])\n",
    "        K[i] = fwd\n",
    "        K[i] = optimize.newton(func, K[i], fprime=f_prime)\n",
    "    return K"
   ]
  },
  {
   "cell_type": "code",
   "execution_count": 3,
   "id": "29298bdf",
   "metadata": {},
   "outputs": [],
   "source": [
    "%run ForwardSpot.ipynb\n",
    "%run getMarket.ipynb"
   ]
  },
  {
   "cell_type": "code",
   "execution_count": 9,
   "id": "f3baa052",
   "metadata": {},
   "outputs": [
    {
     "data": {
      "text/plain": [
       "array([1.49608694])"
      ]
     },
     "execution_count": 9,
     "metadata": {},
     "output_type": "execute_result"
    }
   ],
   "source": [
    "T = np.array([181])\n",
    "fwd = getFwdSpot(curve, T)\n",
    "fwd"
   ]
  },
  {
   "cell_type": "code",
   "execution_count": 10,
   "id": "b43ee5b5",
   "metadata": {},
   "outputs": [
    {
     "data": {
      "text/plain": [
       "[0.1, 0.25, 0.5, 0.25, 0.1]"
      ]
     },
     "execution_count": 10,
     "metadata": {},
     "output_type": "execute_result"
    }
   ],
   "source": [
    "Vs = vols.loc[6]\n",
    "delta = deltas\n",
    "cp = cps\n",
    "Vs\n",
    "cps\n",
    "delta"
   ]
  },
  {
   "cell_type": "code",
   "execution_count": 11,
   "id": "01e17093",
   "metadata": {},
   "outputs": [
    {
     "data": {
      "text/plain": [
       "array([1.20318711, 1.34814634, 1.51945174, 1.7161674 , 1.94369918])"
      ]
     },
     "execution_count": 11,
     "metadata": {},
     "output_type": "execute_result"
    }
   ],
   "source": [
    "Ks = getStrikefromDelta(fwd, T, cps, Vs, delta)\n",
    "Ks"
   ]
  },
  {
   "cell_type": "code",
   "execution_count": 12,
   "id": "c780a8ba",
   "metadata": {},
   "outputs": [],
   "source": [
    "%run getBlackCall.ipynb"
   ]
  },
  {
   "cell_type": "code",
   "execution_count": 13,
   "id": "424fbba3",
   "metadata": {},
   "outputs": [
    {
     "data": {
      "text/plain": [
       "array([0.30692656, 0.19144946, 0.09448499, 0.03673301, 0.01247471])"
      ]
     },
     "execution_count": 13,
     "metadata": {},
     "output_type": "execute_result"
    }
   ],
   "source": [
    "getBlackCall(fwd, T, Ks, Vs)"
   ]
  },
  {
   "cell_type": "code",
   "execution_count": null,
   "id": "edc91993",
   "metadata": {},
   "outputs": [],
   "source": []
  }
 ],
 "metadata": {
  "kernelspec": {
   "display_name": "Python 3",
   "language": "python",
   "name": "python3"
  },
  "language_info": {
   "codemirror_mode": {
    "name": "ipython",
    "version": 3
   },
   "file_extension": ".py",
   "mimetype": "text/x-python",
   "name": "python",
   "nbconvert_exporter": "python",
   "pygments_lexer": "ipython3",
   "version": "3.8.8"
  }
 },
 "nbformat": 4,
 "nbformat_minor": 5
}
