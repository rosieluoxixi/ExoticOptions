{
 "cells": [
  {
   "cell_type": "code",
   "execution_count": 66,
   "id": "3a6493d0",
   "metadata": {},
   "outputs": [],
   "source": [
    "import pandas as pd\n",
    "import numpy as np\n",
    "import matplotlib.pyplot as plt\n",
    "%matplotlib inline\n",
    "from scipy.interpolate import CubicSpline"
   ]
  },
  {
   "cell_type": "code",
   "execution_count": 67,
   "id": "068ae6cc",
   "metadata": {},
   "outputs": [],
   "source": [
    "%run getStrikefromDelta.ipynb\n",
    "%run ForwardSpot.ipynb\n",
    "%run getMarket.ipynb\n",
    "%run getBlackCall.ipynb"
   ]
  },
  {
   "cell_type": "code",
   "execution_count": 68,
   "id": "37a8c2fe",
   "metadata": {},
   "outputs": [],
   "source": [
    "def makeSmile ( fwdCurve , T, cps , deltas , vols ):\n",
    "    '''\n",
    "    Inputs :\n",
    "    fwdCurve : forward curve data\n",
    "    T: time to expiry of the option\n",
    "    cps: vetor if 1 for call , -1 for put\n",
    "    deltas : vector of delta in absolute value (e.g. 0.25)\n",
    "    vols : vector of volatilities\n",
    "    Output :\n",
    "    curve : a struct containing data needed in getSmileK\n",
    "    '''\n",
    "    fwd = getFwdSpot(fwdCurve, T)\n",
    "    Ks = getStrikefromDelta(fwd, T, cps, vols, deltas)\n",
    "    #check arbitrage\n",
    "    Cs = getBlackCall(fwd, T, Ks, vols)\n",
    "    K, C=np.insert(Ks,0,0), np.insert(Cs,0,fwd)\n",
    "    slope = np.diff(C)/np.diff(K)\n",
    "    slope_diff = np.diff(slope)\n",
    "    assert slope_diff.any()>0, \"The price of a Call option is convex in strike\" \n",
    "    #interpolation in strike via CubicSpline\n",
    "    cs = CubicSpline(Ks, vols)\n",
    "    #extrapolation\n",
    "    KL = Ks[0]**2/Ks[1]\n",
    "    KR = Ks[-1]**2/Ks[-2]\n",
    "    bR = np.arctanh(np.sqrt(0.5))/(KR-Ks[-1])\n",
    "    bL = np.arctanh(np.sqrt(0.5))/(Ks[0]-KL)\n",
    "    aR = cs(Ks[-1],1)/bR\n",
    "    aL = -cs(Ks[0],1)/bL\n",
    "    volCurve = {\"cs\": cs, \"KL\": KL, \"KR\": KR, \"bR\": bR, \"bL\": bL, \"aR\": aR, \"aL\": aL, \"K1\": Ks[0], \"KN\": Ks[-1] }\n",
    "    return volCurve"
   ]
  },
  {
   "cell_type": "code",
   "execution_count": 71,
   "id": "aca27c53",
   "metadata": {},
   "outputs": [],
   "source": [
    "curve\n",
    "fwd = getFwdSpot(curve, T)\n",
    "T = np.array([181])\n",
    "fwd = getFwdSpot(curve, T)\n",
    "delta = deltas\n",
    "cp = cps\n",
    "vols_6 = vols.loc[6]"
   ]
  },
  {
   "cell_type": "code",
   "execution_count": 72,
   "id": "ea05a37a",
   "metadata": {},
   "outputs": [
    {
     "data": {
      "text/plain": [
       "1.203187112033201"
      ]
     },
     "execution_count": 72,
     "metadata": {},
     "output_type": "execute_result"
    }
   ],
   "source": [
    "volCurve = makeSmile(curve, T, cp, delta, vols_6)\n",
    "volCurve['K1']"
   ]
  },
  {
   "cell_type": "code",
   "execution_count": 73,
   "id": "ae2b7e9c",
   "metadata": {},
   "outputs": [],
   "source": [
    "def getSmileVol(volCurve, Ks):\n",
    "    '''\n",
    "    Inputs :\n",
    "    volCurve : pre - computed smile data\n",
    "    Ks: vetor of strikes\n",
    "    Output :\n",
    "    vols : implied volatility at strikes Ks\n",
    "    '''\n",
    "    vols = np.zeros_like(Ks)\n",
    "    cs = volCurve['cs']\n",
    "    K1, KN = volCurve['K1'], volCurve['KN']\n",
    "    KL, KR = volCurve['KL'], volCurve['KR']\n",
    "    aL, aR = volCurve['aL'], volCurve['aR']\n",
    "    bL, bR = volCurve['bL'], volCurve['bR']\n",
    "    for i in range(len(Ks)):\n",
    "        K = Ks[i]\n",
    "        if K<K1:\n",
    "            vols[i] = cs(K1) + aL*np.tanh(bL*(K1-K))\n",
    "        elif K>KN:\n",
    "            vols[i] = cs(KN) + aR*np.tanh(bR*(K-KN))\n",
    "        else:\n",
    "            vols[i] = cs(K)\n",
    "    return vols"
   ]
  },
  {
   "cell_type": "code",
   "execution_count": 74,
   "id": "8f89cc01",
   "metadata": {},
   "outputs": [],
   "source": [
    "Ks = np.arange(1,2,0.01)\n",
    "vols = getSmileVol(volCurve, Ks)"
   ]
  },
  {
   "cell_type": "code",
   "execution_count": 75,
   "id": "c8157eae",
   "metadata": {},
   "outputs": [
    {
     "data": {
      "text/plain": [
       "[<matplotlib.lines.Line2D at 0x1851a4dadc0>]"
      ]
     },
     "execution_count": 75,
     "metadata": {},
     "output_type": "execute_result"
    },
    {
     "data": {
      "image/png": "[encoded data removed]",
      "text/plain": [
       "<Figure size 468x288 with 1 Axes>"
      ]
     },
     "metadata": {
      "needs_background": "light"
     },
     "output_type": "display_data"
    }
   ],
   "source": [
    "fig, ax = plt.subplots(figsize=(6.5, 4))\n",
    "ax.plot(Ks, vols, 'o', label='data')"
   ]
  },
  {
   "cell_type": "code",
   "execution_count": null,
   "id": "e5fe4e23",
   "metadata": {},
   "outputs": [],
   "source": []
  }
 ],
 "metadata": {
  "kernelspec": {
   "display_name": "Python 3",
   "language": "python",
   "name": "python3"
  },
  "language_info": {
   "codemirror_mode": {
    "name": "ipython",
    "version": 3
   },
   "file_extension": ".py",
   "mimetype": "text/x-python",
   "name": "python",
   "nbconvert_exporter": "python",
   "pygments_lexer": "ipython3",
   "version": "3.8.8"
  }
 },
 "nbformat": 4,
 "nbformat_minor": 5
}
