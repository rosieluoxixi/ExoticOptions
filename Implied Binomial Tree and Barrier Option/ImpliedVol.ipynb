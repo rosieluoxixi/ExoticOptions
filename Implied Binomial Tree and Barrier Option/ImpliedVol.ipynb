{
 "cells": [
  {
   "cell_type": "code",
   "execution_count": 395,
   "id": "a09a8138",
   "metadata": {},
   "outputs": [
    {
     "data": {
      "text/plain": [
       "\"\\nt = '2021/12/10'\\ncalibrated on options of S&P500 index\\n\\n\""
      ]
     },
     "execution_count": 395,
     "metadata": {},
     "output_type": "execute_result"
    }
   ],
   "source": [
    "'''\n",
    "t = '2021/12/10'\n",
    "calibrated on options of S&P500 index\n",
    "\n",
    "'''"
   ]
  },
  {
   "cell_type": "code",
   "execution_count": 394,
   "id": "8d08055d",
   "metadata": {},
   "outputs": [],
   "source": [
    "import yfinance as yf\n",
    "import pandas as pd\n",
    "from scipy.interpolate import CubicSpline\n",
    "import numpy as np\n",
    "import matplotlib.pyplot as plt\n",
    "%matplotlib inline"
   ]
  },
  {
   "cell_type": "code",
   "execution_count": 362,
   "id": "f912428f",
   "metadata": {},
   "outputs": [],
   "source": [
    "t = datetime.strptime('2021-12-10', '%Y-%m-%d').date()\n",
    "spx = yf.Ticker('^SPX')"
   ]
  },
  {
   "cell_type": "code",
   "execution_count": 255,
   "id": "3d7805d8",
   "metadata": {},
   "outputs": [],
   "source": [
    "opt = spx.option_chain(date='2021-12-15')"
   ]
  },
  {
   "cell_type": "code",
   "execution_count": 258,
   "id": "ad44656f",
   "metadata": {},
   "outputs": [],
   "source": [
    "spot = 4712.02"
   ]
  },
  {
   "cell_type": "code",
   "execution_count": 320,
   "id": "73a5cc22",
   "metadata": {},
   "outputs": [],
   "source": [
    "def otmCalls_function(calls):\n",
    "    otmCalls = calls[~calls.inTheMoney]\n",
    "    otmCalls = otmCalls[['strike', 'impliedVolatility']]\n",
    "    otmCalls.reset_index(drop=True, inplace=True)\n",
    "    min = 0.0\n",
    "    for i in otmCalls.index:\n",
    "        [strike, impliedVolatility] = otmCalls.loc[i]\n",
    "        if impliedVolatility > min:\n",
    "            min = impliedVolatility\n",
    "        else:\n",
    "            otmCalls = otmCalls.drop([i])\n",
    "    return otmCalls"
   ]
  },
  {
   "cell_type": "code",
   "execution_count": 321,
   "id": "e44973de",
   "metadata": {},
   "outputs": [],
   "source": [
    "def otmPuts_function(puts):\n",
    "    otmPuts = puts[~puts.inTheMoney]\n",
    "#df[(df.line_race != 0) & (df.line_race != 10)]\n",
    "#df.drop(df.index[df['myvar'] == 'specific_name'], inplace = True)\n",
    "    otmPuts = otmPuts[['strike', 'impliedVolatility']]\n",
    "#otmPuts_new = otmPuts[(otmPuts.impliedVolatility != 0.2500075) & (otmPuts.impliedVolatility != 0.500005)]\n",
    "#otmPuts_new.shape\n",
    "    otmPuts.reset_index(drop=True, inplace=True)\n",
    "    max = otmPuts.iloc[0,1]\n",
    "    for i in otmPuts.index:\n",
    "        [strike, impliedVolatility] = otmPuts.loc[i]\n",
    "        if impliedVolatility < max:\n",
    "            max = impliedVolatility\n",
    "        else:\n",
    "            otmPuts = otmPuts.drop([i])\n",
    "    return otmPuts"
   ]
  },
  {
   "cell_type": "code",
   "execution_count": 292,
   "id": "2cbf666b",
   "metadata": {},
   "outputs": [
    {
     "data": {
      "text/plain": [
       "'import scipy.stats as stats\\nz = np.abs(stats.zscore(data))\\ndata_clean = data[(z<2).all(axis=1)]\\ndata_clean.shape'"
      ]
     },
     "execution_count": 292,
     "metadata": {},
     "output_type": "execute_result"
    }
   ],
   "source": [
    "#remove outliers\n",
    "'''import scipy.stats as stats\n",
    "z = np.abs(stats.zscore(data))\n",
    "data_clean = data[(z<2).all(axis=1)]\n",
    "data_clean.shape'''"
   ]
  },
  {
   "cell_type": "code",
   "execution_count": 318,
   "id": "6e6aa645",
   "metadata": {},
   "outputs": [
    {
     "data": {
      "text/plain": [
       "['2021-12-31',\n",
       " '2022-01-31',\n",
       " '2022-02-28',\n",
       " '2022-03-31',\n",
       " '2022-04-29',\n",
       " '2022-05-31',\n",
       " '2022-06-30']"
      ]
     },
     "execution_count": 318,
     "metadata": {},
     "output_type": "execute_result"
    }
   ],
   "source": [
    "dates = spx.options\n",
    "dates_list = list(dates)\n",
    "dates_list.pop(0)\n",
    "dates_list\n",
    "#base = datetime.datetime.today()\n",
    "#date_list = [base - datetime.timedelta(days=x) for x in range(numdays)]\n",
    "dates_test = ['2021-12-31', '2022-01-31', '2022-02-28', '2022-03-31', '2022-04-29', '2022-05-31', '2022-06-30']\n",
    "dates_test"
   ]
  },
  {
   "cell_type": "code",
   "execution_count": 304,
   "id": "6504de05",
   "metadata": {},
   "outputs": [],
   "source": [
    "def makeSmile(dates_list):\n",
    "    volSurface = {}\n",
    "    for i in range(10):\n",
    "        opt = spx.option_chain(date=date)\n",
    "        calls = opt.calls\n",
    "        puts = opt.puts\n",
    "        otmCalls = otmCalls_function(calls)\n",
    "        otmPuts = otmPuts_function(puts)\n",
    "        data = pd.concat([otmPuts, otmCalls], ignore_index=True)\n",
    "        volSurface[date] = CubicSpline(data.strike, data.impliedVolatility, bc_type = 'natural')\n",
    "    return volSurface"
   ]
  },
  {
   "cell_type": "code",
   "execution_count": 326,
   "id": "d1fa9c6c",
   "metadata": {},
   "outputs": [
    {
     "data": {
      "text/plain": [
       "<function dict.keys>"
      ]
     },
     "execution_count": 326,
     "metadata": {},
     "output_type": "execute_result"
    }
   ],
   "source": [
    "volSurface = makeSmile(dates_test)"
   ]
  },
  {
   "cell_type": "code",
   "execution_count": 391,
   "id": "49a54299",
   "metadata": {},
   "outputs": [],
   "source": [
    "from datetime import datetime\n",
    "def makeSurface(volSurface, T, K):\n",
    "    dates = list(volSurface.keys())\n",
    "    if T not in dates:\n",
    "        vol = []\n",
    "        dates.append(T)\n",
    "        dates.sort()\n",
    "        index = dates.index(T)\n",
    "        T1_index, T2_index = dates[index-1], dates[index+1]\n",
    "        T1 = datetime.strptime(T1_index, '%Y-%m-%d').date()\n",
    "        T2 = datetime.strptime(T2_index, '%Y-%m-%d').date()\n",
    "        T_date = datetime.strptime(T, '%Y-%m-%d').date()\n",
    "        vol1 = volSurface[T1_index]\n",
    "        vol2 = volSurface[T2_index]\n",
    "        for strike in K:\n",
    "            factor_1 = (T2-T_date)/(T2-T1)*vol1(strike)**2*(T1-t).days\n",
    "            factor_2 = (T_date-T1)/(T2-T1)*vol2(strike)**2*(T2-t).days\n",
    "            vol.append(np.sqrt((factor_1 + factor_2)/(T_date-t).days))\n",
    "        volSurface[T] = CubicSpline(K, vol, bc_type = 'natural')\n",
    "    return volSurface"
   ]
  },
  {
   "cell_type": "code",
   "execution_count": 393,
   "id": "0d42b024",
   "metadata": {},
   "outputs": [
    {
     "data": {
      "text/plain": [
       "{'2021-12-31': <scipy.interpolate._cubic.CubicSpline at 0x22df731e5e0>,\n",
       " '2022-01-31': <scipy.interpolate._cubic.CubicSpline at 0x22df72b3360>,\n",
       " '2022-02-28': <scipy.interpolate._cubic.CubicSpline at 0x22df72bd1d0>,\n",
       " '2022-03-31': <scipy.interpolate._cubic.CubicSpline at 0x22df72e0680>,\n",
       " '2022-04-29': <scipy.interpolate._cubic.CubicSpline at 0x22df7324950>,\n",
       " '2022-05-31': <scipy.interpolate._cubic.CubicSpline at 0x22df72cb630>,\n",
       " '2022-06-30': <scipy.interpolate._cubic.CubicSpline at 0x22df72c2590>,\n",
       " '2022-01-15': <scipy.interpolate._cubic.CubicSpline at 0x22df72fd950>}"
      ]
     },
     "execution_count": 393,
     "metadata": {},
     "output_type": "execute_result"
    }
   ],
   "source": [
    "K = list(range(3500, 5500, 100))\n",
    "T = '2022-01-15'\n",
    "makeSurface(volSurface, T, K)"
   ]
  },
  {
   "cell_type": "code",
   "execution_count": 390,
   "id": "6ee30095",
   "metadata": {},
   "outputs": [],
   "source": []
  },
  {
   "cell_type": "code",
   "execution_count": null,
   "id": "4e98c232",
   "metadata": {},
   "outputs": [],
   "source": []
  }
 ],
 "metadata": {
  "kernelspec": {
   "display_name": "Python 3",
   "language": "python",
   "name": "python3"
  },
  "language_info": {
   "codemirror_mode": {
    "name": "ipython",
    "version": 3
   },
   "file_extension": ".py",
   "mimetype": "text/x-python",
   "name": "python",
   "nbconvert_exporter": "python",
   "pygments_lexer": "ipython3",
   "version": "3.8.8"
  }
 },
 "nbformat": 4,
 "nbformat_minor": 5
}
